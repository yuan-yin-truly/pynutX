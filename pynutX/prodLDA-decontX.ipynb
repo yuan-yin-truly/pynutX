{
 "cells": [
  {
   "cell_type": "code",
   "execution_count": null,
   "metadata": {
    "colab": {
     "base_uri": "https://localhost:8080/"
    },
    "executionInfo": {
     "elapsed": 3255,
     "status": "ok",
     "timestamp": 1668888302998,
     "user": {
      "displayName": "superhanfeng",
      "userId": "17857691186997045480"
     },
     "user_tz": 300
    },
    "id": "xhuPhhdkZncG",
    "outputId": "7a8492d1-60aa-49e0-b611-69d69dc77a40",
    "scrolled": true
   },
   "outputs": [
    {
     "name": "stdout",
     "output_type": "stream",
     "text": [
      "Looking in indexes: https://pypi.org/simple, https://us-python.pkg.dev/colab-wheels/public/simple/\n",
      "Requirement already satisfied: pyro-ppl in /usr/local/lib/python3.7/dist-packages (1.8.2)\n",
      "Requirement already satisfied: pyro-api>=0.1.1 in /usr/local/lib/python3.7/dist-packages (from pyro-ppl) (0.1.2)\n",
      "Requirement already satisfied: numpy>=1.7 in /usr/local/lib/python3.7/dist-packages (from pyro-ppl) (1.21.6)\n",
      "Requirement already satisfied: torch>=1.11.0 in /usr/local/lib/python3.7/dist-packages (from pyro-ppl) (1.12.1+cu113)\n",
      "Requirement already satisfied: opt-einsum>=2.3.2 in /usr/local/lib/python3.7/dist-packages (from pyro-ppl) (3.3.0)\n",
      "Requirement already satisfied: tqdm>=4.36 in /usr/local/lib/python3.7/dist-packages (from pyro-ppl) (4.64.1)\n",
      "Requirement already satisfied: typing-extensions in /usr/local/lib/python3.7/dist-packages (from torch>=1.11.0->pyro-ppl) (4.1.1)\n"
     ]
    }
   ],
   "source": [
    "!pip3 install pyro-ppl"
   ]
  },
  {
   "cell_type": "code",
   "execution_count": null,
   "metadata": {
    "colab": {
     "base_uri": "https://localhost:8080/"
    },
    "executionInfo": {
     "elapsed": 2865,
     "status": "ok",
     "timestamp": 1668888305858,
     "user": {
      "displayName": "superhanfeng",
      "userId": "17857691186997045480"
     },
     "user_tz": 300
    },
    "id": "AxXXvG_DO5_B",
    "outputId": "9d4e143a-9b2d-409e-d01a-92ffc34ff10c"
   },
   "outputs": [
    {
     "name": "stdout",
     "output_type": "stream",
     "text": [
      "Drive already mounted at /content/drive; to attempt to forcibly remount, call drive.mount(\"/content/drive\", force_remount=True).\n"
     ]
    }
   ],
   "source": [
    "import torch\n",
    "import torch.nn as nn\n",
    "import torch.nn.functional as F\n",
    "import numpy as np\n",
    "import pandas as pd\n",
    "import seaborn as sns\n",
    "import pyro\n",
    "import pyro.distributions as dist\n",
    "from pyro.infer import SVI, TraceMeanField_ELBO\n",
    "from tqdm import trange\n",
    "import math"
   ]
  },
  {
   "cell_type": "code",
   "execution_count": null,
   "metadata": {
    "colab": {
     "base_uri": "https://localhost:8080/"
    },
    "executionInfo": {
     "elapsed": 580,
     "status": "ok",
     "timestamp": 1668888306431,
     "user": {
      "displayName": "superhanfeng",
      "userId": "17857691186997045480"
     },
     "user_tz": 300
    },
    "id": "awHwDBeWUcCM",
    "outputId": "c5b8d698-bf57-46ce-b54b-e36cda181198"
   },
   "outputs": [
    {
     "name": "stdout",
     "output_type": "stream",
     "text": [
      "pbmc10k_cell_type.csv  pbmc10k_empty.csv\n",
      "pbmc10k_counts.csv     pbmc10k_pyro_inference_theta.csv\n"
     ]
    }
   ],
   "source": [
    "counts = pd.read_csv('sample_pbmc/pbmc10k_counts.csv',\n",
    "                  index_col = 0)\n",
    "\n",
    "empty = pd.read_csv('sample_pbmc/pbmc10k_empty.csv',\n",
    "                  index_col = 0)\n",
    "\n",
    "cell_type = pd.read_csv('sample_pbmc/pbmc10k_cell_type.csv',\n",
    "                  index_col = 0)"
   ]
  },
  {
   "cell_type": "code",
   "execution_count": null,
   "metadata": {
    "colab": {
     "base_uri": "https://localhost:8080/"
    },
    "executionInfo": {
     "elapsed": 12,
     "status": "ok",
     "timestamp": 1668888306431,
     "user": {
      "displayName": "superhanfeng",
      "userId": "17857691186997045480"
     },
     "user_tz": 300
    },
    "id": "EUCk6pdLiACI",
    "outputId": "c914e79d-df72-4211-a705-966eac8d7544"
   },
   "outputs": [
    {
     "name": "stdout",
     "output_type": "stream",
     "text": [
      "Dim of count matrix: (14, 7471)\n",
      "Dim of empty drop matrix: (14, 10000)\n",
      "Dim of cell_type array: (7471, 1)\n",
      "[0.17560754 0.17233704 0.11056098 0.05069271 0.06827163 0.06318419\n",
      " 0.02248467 0.01971383 0.01053827 0.19813763 0.05986827 0.02348399\n",
      " 0.00785828 0.01726096] (14,) <class 'numpy.ndarray'>\n"
     ]
    }
   ],
   "source": [
    "print(f'Dim of count matrix: {counts.shape}')\n",
    "print(f'Dim of empty drop matrix: {empty.shape}')\n",
    "print(f'Dim of cell_type array: {cell_type.shape}')\n",
    "\n",
    "p = empty.values\n",
    "p = p.sum(axis = 1)\n",
    "p = p/p.sum()\n",
    "print(p, p.shape, type(p))"
   ]
  },
  {
   "cell_type": "code",
   "execution_count": null,
   "metadata": {
    "colab": {
     "base_uri": "https://localhost:8080/"
    },
    "executionInfo": {
     "elapsed": 10,
     "status": "ok",
     "timestamp": 1668888306432,
     "user": {
      "displayName": "superhanfeng",
      "userId": "17857691186997045480"
     },
     "user_tz": 300
    },
    "id": "iqv4YsC9ShAj",
    "outputId": "c3076cd7-ca80-40ef-bfc1-4632b76b26e4"
   },
   "outputs": [
    {
     "name": "stdout",
     "output_type": "stream",
     "text": [
      "<class 'pandas.core.frame.DataFrame'>\n",
      "tensor([[  30.,  119.,   19.,  472.,  102.],\n",
      "        [  18.,  207.,   10., 1289.,  128.],\n",
      "        [  18.,   11.,   17.,   20.,  124.],\n",
      "        [   5.,   14.,   14.,   19.,  156.],\n",
      "        [  21., 1014.,   29., 2428.,  204.]]) torch.Size([7471, 14]) torch.float32\n",
      "tensor([0.1756, 0.1723, 0.1106, 0.0507, 0.0683, 0.0632, 0.0225, 0.0197, 0.0105,\n",
      "        0.1981, 0.0599, 0.0235, 0.0079, 0.0173]) torch.float32\n",
      "tensor([1, 1, 4, 4, 1, 1, 1, 2, 2, 9]) 7471 torch.int64\n"
     ]
    }
   ],
   "source": [
    "# Converting data to tensor\n",
    "print(type(counts))\n",
    "counts_tensor = torch.from_numpy(counts.values).T.float()\n",
    "p_tensor = torch.from_numpy(p).float()\n",
    "cell_type_tensor = torch.from_numpy(cell_type.values).squeeze(axis = 1)\n",
    "\n",
    "\n",
    "\n",
    "print(counts_tensor[:5,:5], counts_tensor.shape, counts_tensor.dtype)\n",
    "print(p_tensor, p_tensor.dtype)\n",
    "print(cell_type_tensor[:10], len(cell_type_tensor), cell_type_tensor.dtype)"
   ]
  },
  {
   "cell_type": "code",
   "execution_count": null,
   "metadata": {
    "colab": {
     "base_uri": "https://localhost:8080/",
     "height": 612
    },
    "executionInfo": {
     "elapsed": 336,
     "status": "ok",
     "timestamp": 1668888306761,
     "user": {
      "displayName": "superhanfeng",
      "userId": "17857691186997045480"
     },
     "user_tz": 300
    },
    "id": "H5yZ_ftYzONJ",
    "outputId": "2ae60575-ee5e-4449-8fc7-619389b7d98f"
   },
   "outputs": [
    {
     "name": "stdout",
     "output_type": "stream",
     "text": [
      "                    CD3   CD4  CD8a  CD14  CD15  CD16  CD56  CD19  CD25  \\\n",
      "AAACCCACATCGGTTA-1   30   119    19   472   102   155   248     3     5   \n",
      "AAACCCAGTACCGCGT-1   18   207    10  1289   128    72    26     8    15   \n",
      "AAACCCAGTATCGAAA-1   18    11    17    20   124  1227   491     5    15   \n",
      "AAACCCAGTCGTCATA-1    5    14    14    19   156  1873   458     4    16   \n",
      "AAACCCAGTCTACACA-1   21  1014    29  2428   204   148    29     7    52   \n",
      "\n",
      "                    CD45RA  CD45RO  PD-1  TIGIT  CD127  \n",
      "AAACCCACATCGGTTA-1     125     156     9      9      8  \n",
      "AAACCCAGTACCGCGT-1    5268      28    20     11     12  \n",
      "AAACCCAGTATCGAAA-1    4743      28    25     59     16  \n",
      "AAACCCAGTCGTCATA-1    4108      21    28     76     17  \n",
      "AAACCCAGTCTACACA-1     227     492    16     11     15   <class 'pandas.core.frame.DataFrame'>\n"
     ]
    },
    {
     "data": {
      "text/plain": [
       "<seaborn.axisgrid.FacetGrid at 0x7fd74f8d77d0>"
      ]
     },
     "execution_count": 6,
     "metadata": {},
     "output_type": "execute_result"
    },
    {
     "data": {
      "image/png": "[encoded data removed]",
      "text/plain": [
       "<Figure size 360x360 with 1 Axes>"
      ]
     },
     "metadata": {
      "needs_background": "light"
     },
     "output_type": "display_data"
    }
   ],
   "source": [
    "d = counts.T\n",
    "print(d.head(), type(d))\n",
    "sns.displot(d, x = 'CD8a', kind = 'kde')"
   ]
  },
  {
   "cell_type": "code",
   "execution_count": null,
   "metadata": {
    "id": "CxYZtTdKUk3h"
   },
   "outputs": [],
   "source": [
    "class Encoder(nn.Module):\n",
    "  def __init__(self, ngenes, hidden, dropout):\n",
    "    super().__init__()\n",
    "    self.drop = nn.Dropout(dropout)\n",
    "    self.fc1 = nn.Linear(ngenes, hidden)\n",
    "    self.fc2 = nn.Linear(hidden, hidden)\n",
    "    self.fcmu = nn.Linear(hidden, 2)\n",
    "    self.fclv = nn.Linear(hidden, 2)\n",
    "\n",
    "    self.bnmu = nn.BatchNorm1d(2, affine = False)\n",
    "    self.bnlv = nn.BatchNorm1d(2, affine = False)\n",
    "\n",
    "\n",
    "  def forward(self, inputs):\n",
    "    h = F.softplus(self.fc1(inputs))\n",
    "    h = F.softplus(self.fc2(h))\n",
    "    h = self.drop(h)\n",
    "\n",
    "    logtheta_loc = self.bnmu(self.fcmu(h))\n",
    "    logtheta_logvar = self.bnlv(self.fclv(h))\n",
    "    logtheta_scale = (0.5*logtheta_logvar).exp()\n",
    "    return logtheta_loc, logtheta_scale\n"
   ]
  },
  {
   "cell_type": "code",
   "execution_count": null,
   "metadata": {
    "id": "poIn5Iv3UmpY"
   },
   "outputs": [],
   "source": [
    "class myLinear(nn.Module):\n",
    "  def __init__(self, in_features, out_features, ambient_profile):\n",
    "    super().__init__()\n",
    "    self.ambient_profile = ambient_profile\n",
    "    self.weight = nn.Parameter(torch.empty((out_features, in_features)))\n",
    "    self.reset_parameters()\n",
    "\n",
    "  def reset_parameters(self):\n",
    "    nn.init.kaiming_uniform_(self.weight, a=math.sqrt(5))\n",
    "\n",
    "  def forward(self, input):\n",
    "    # Input: theta. Last col is weight on ambient profile\n",
    "\n",
    "    # Normalize weight to make it same scale as ambient_profile\n",
    "    weight_norm = self.weight.t()\n",
    "    weight_norm = weight_norm / weight_norm.sum(axis = 1, keepdim = True)\n",
    "\n",
    "    output = torch.mm(input[:,:-1], weight_norm)\n",
    "    output += torch.outer(input[:,-1], self.ambient_profile)\n",
    "    return output\n"
   ]
  },
  {
   "cell_type": "code",
   "execution_count": null,
   "metadata": {
    "id": "NEBxkPumUptH"
   },
   "outputs": [],
   "source": [
    "class Decoder(nn.Module):\n",
    "  def __init__(self, ngenes, nclusters, ambient_profile, dropout):\n",
    "    super().__init__()\n",
    "    self.beta = myLinear(nclusters, ngenes, ambient_profile)\n",
    "    self.bn = nn.BatchNorm1d(ngenes, affine=False)\n",
    "    self.drop = nn.Dropout(dropout)\n",
    "\n",
    "\n",
    "  def forward(self, inputs):\n",
    "    inputs = self.drop(inputs)\n",
    "    return F.softmax(self.bn(self.beta(inputs)), dim = 1)"
   ]
  },
  {
   "cell_type": "code",
   "execution_count": null,
   "metadata": {
    "id": "-MyTlbjqy41C"
   },
   "outputs": [],
   "source": [
    "class ProdLDA(nn.Module):\n",
    "  def __init__(self, ngenes, nclusters, ambient_profile, hidden, dropout):\n",
    "    super().__init__()\n",
    "    self.ngenes = ngenes\n",
    "    self.nclusters = nclusters\n",
    "    self.ambient_profile = ambient_profile\n",
    "    self.encoder = Encoder(ngenes, hidden, dropout)\n",
    "    self.decoder = Decoder(ngenes, nclusters, ambient_profile, dropout)\n",
    "\n",
    "  def model(self, counts_batch, cell_type_batch):\n",
    "    pyro.module('decoder', self.decoder)\n",
    "    with pyro.plate('documents', counts_batch.shape[0]):\n",
    "      logtheta_loc = counts_batch.new_zeros((counts_batch.shape[0], 2))\n",
    "      logtheta_scale = counts_batch.new_ones((counts_batch.shape[0], 2))\n",
    "      logtheta = pyro.sample('logtheta', dist.Normal(logtheta_loc, logtheta_scale).to_event(1))\n",
    "      theta = F.softmax(logtheta, -1)\n",
    "      # theta: droplets x 2 : (native ratio n contam ratio)\n",
    "\n",
    "      # theta_expand: droplet x (ncluster + 1) : (+1 contam ratio)\n",
    "      theta_expanded = self.expand(theta, cell_type_batch)\n",
    "      \n",
    "\n",
    "      count_param = self.decoder(theta_expanded)\n",
    "\n",
    "      total_count = int(counts_batch.sum(-1).max())\n",
    "      pyro.sample('obs', dist.Multinomial(total_count, count_param), obs=counts_batch)\n",
    "\n",
    "  \n",
    "  def guide(self, counts_batch, cell_type_batch):\n",
    "    pyro.module('encoder', self.encoder)\n",
    "    with pyro.plate('documents', counts_batch.shape[0]):\n",
    "      logtheta_loc, logtheta_scale = self.encoder(counts_batch)\n",
    "      logtheta = pyro.sample('logtheta', dist.Normal(logtheta_loc, logtheta_scale).to_event(1))\n",
    "\n",
    "  def beta(self):\n",
    "    return self.decoder.beta.logweight.cpu().detach().T\n",
    "\n",
    "  def expand(self, theta, cell_type_batch):\n",
    "    theta_expand = torch.zeros((theta.shape[0], self.nclusters + 1)).to(device)\n",
    "    theta_expand[torch.arange(len(cell_type_batch)), cell_type_batch - 1] = theta[:,0] # 0 based\n",
    "    theta_expand[torch.arange(len(cell_type_batch)), -1] = theta[:, 1]\n",
    "    return theta_expand\n"
   ]
  },
  {
   "cell_type": "code",
   "execution_count": null,
   "metadata": {
    "colab": {
     "base_uri": "https://localhost:8080/"
    },
    "executionInfo": {
     "elapsed": 2349,
     "status": "ok",
     "timestamp": 1668888309106,
     "user": {
      "displayName": "superhanfeng",
      "userId": "17857691186997045480"
     },
     "user_tz": 300
    },
    "id": "A0VR5Ky3WT61",
    "outputId": "c12d5a84-2525-4056-e468-4bca921fb4a8"
   },
   "outputs": [
    {
     "name": "stdout",
     "output_type": "stream",
     "text": [
      "cuda\n",
      "Num of cell types: 12\n"
     ]
    }
   ],
   "source": [
    "seed = 0\n",
    "torch.manual_seed(seed)\n",
    "pyro.set_rng_seed(seed)\n",
    "device = torch.device('cuda' if torch.cuda.is_available() else 'cpu')\n",
    "print(device)\n",
    "\n",
    "counts_tensor = counts_tensor.to(device)\n",
    "p_tensor = p_tensor.to(device)\n",
    "cell_type_tensor = cell_type_tensor.to(device)\n",
    "\n",
    "ngenes = counts_tensor.shape[1]\n",
    "# print(ngenes.device)\n",
    "nclusters = cell_type_tensor.max()\n",
    "# print(nclusters.device)\n",
    "print(f\"Num of cell types: {nclusters}\")\n",
    "\n",
    "\n",
    "batch_size = 32\n",
    "lr = 1e-3\n",
    "num_epochs = 50"
   ]
  },
  {
   "cell_type": "code",
   "execution_count": null,
   "metadata": {
    "colab": {
     "base_uri": "https://localhost:8080/"
    },
    "executionInfo": {
     "elapsed": 106513,
     "status": "ok",
     "timestamp": 1668888415617,
     "user": {
      "displayName": "superhanfeng",
      "userId": "17857691186997045480"
     },
     "user_tz": 300
    },
    "id": "5OGMyxXvYDq_",
    "outputId": "96382cf9-c1b3-4a5a-fb01-6685ebf0c23b"
   },
   "outputs": [
    {
     "name": "stderr",
     "output_type": "stream",
     "text": [
      "  2%|▏         | 1/50 [00:02<02:19,  2.84s/it, epoch_loss=1.78e+06]"
     ]
    },
    {
     "name": "stdout",
     "output_type": "stream",
     "text": [
      "Loss: 75637.421875\n"
     ]
    },
    {
     "name": "stderr",
     "output_type": "stream",
     "text": [
      " 22%|██▏       | 11/50 [00:28<01:20,  2.07s/it, epoch_loss=1.10e+06]"
     ]
    },
    {
     "name": "stdout",
     "output_type": "stream",
     "text": [
      "Loss: 71451.375\n"
     ]
    },
    {
     "name": "stderr",
     "output_type": "stream",
     "text": [
      " 42%|████▏     | 21/50 [00:47<00:55,  1.91s/it, epoch_loss=1.10e+06]"
     ]
    },
    {
     "name": "stdout",
     "output_type": "stream",
     "text": [
      "Loss: 68684.390625\n"
     ]
    },
    {
     "name": "stderr",
     "output_type": "stream",
     "text": [
      " 62%|██████▏   | 31/50 [01:06<00:36,  1.92s/it, epoch_loss=1.11e+06]"
     ]
    },
    {
     "name": "stdout",
     "output_type": "stream",
     "text": [
      "Loss: 76144.90625\n"
     ]
    },
    {
     "name": "stderr",
     "output_type": "stream",
     "text": [
      " 82%|████████▏ | 41/50 [01:29<00:20,  2.24s/it, epoch_loss=1.09e+06]"
     ]
    },
    {
     "name": "stdout",
     "output_type": "stream",
     "text": [
      "Loss: 72850.0546875\n"
     ]
    },
    {
     "name": "stderr",
     "output_type": "stream",
     "text": [
      "100%|██████████| 50/50 [01:46<00:00,  2.13s/it, epoch_loss=1.09e+06]\n"
     ]
    }
   ],
   "source": [
    "pyro.clear_param_store()\n",
    "\n",
    "prodLDA = ProdLDA(\n",
    "    ngenes = ngenes,\n",
    "    nclusters = nclusters,\n",
    "    ambient_profile = p_tensor,\n",
    "    hidden = 100,\n",
    "    dropout = 0.2\n",
    ")\n",
    "prodLDA.to(device)\n",
    "\n",
    "optimizer = pyro.optim.Adam({'lr': lr})\n",
    "svi = SVI(prodLDA.model, prodLDA.guide, optimizer, loss=TraceMeanField_ELBO())\n",
    "num_batches = int(math.ceil(counts_tensor.shape[0] / batch_size))\n",
    "\n",
    "bar = trange(num_epochs)\n",
    "loss_store = []\n",
    "for epoch in bar:\n",
    "  running_loss = 0.0\n",
    "  for i in range(num_batches):\n",
    "    counts_batch = counts_tensor[i*batch_size:(i+1)*batch_size, :]\n",
    "    cell_type_batch = cell_type_tensor[i*batch_size:(i+1)*batch_size]\n",
    "    loss = svi.step(counts_batch, cell_type_batch)\n",
    "\n",
    "    for p in prodLDA.decoder.beta.parameters(): # beta param are positive\n",
    "      p.data.clamp_(min = 0)\n",
    "\n",
    "    running_loss += loss / counts_batch.size(0)\n",
    "\n",
    "  bar.set_postfix(epoch_loss = '{:.2e}'.format(running_loss))\n",
    "  if epoch % 10 == 0:\n",
    "    print(f\"Loss: {loss}\")\n"
   ]
  },
  {
   "cell_type": "code",
   "execution_count": null,
   "metadata": {
    "colab": {
     "base_uri": "https://localhost:8080/"
    },
    "executionInfo": {
     "elapsed": 26,
     "status": "ok",
     "timestamp": 1668888415617,
     "user": {
      "displayName": "superhanfeng",
      "userId": "17857691186997045480"
     },
     "user_tz": 300
    },
    "id": "fBmvgi6mi73G",
    "outputId": "a9d6d98c-8ce0-4374-bd20-6df3aa2ef9ec"
   },
   "outputs": [
    {
     "name": "stdout",
     "output_type": "stream",
     "text": [
      "tensor([[1.0000, 1.0768, 1.0000, 1.4555, 1.3039],\n",
      "        [1.6042, 1.5053, 1.0000, 1.0057, 1.0424],\n",
      "        [1.4792, 1.6089, 1.0000, 1.0182, 1.0592],\n",
      "        [1.0000, 1.0000, 1.2027, 1.0555, 1.1311],\n",
      "        [1.3515, 1.0000, 1.5861, 1.0178, 1.0536]])\n",
      "torch.Size([12, 14])\n",
      "168 168\n",
      "dict_keys(['encoder$$$fc1.weight', 'encoder$$$fc1.bias', 'encoder$$$fc2.weight', 'encoder$$$fc2.bias', 'encoder$$$fcmu.weight', 'encoder$$$fcmu.bias', 'encoder$$$fclv.weight', 'encoder$$$fclv.bias', 'decoder$$$beta.weight'])\n",
      "Original ambient profile: [0.17560755 0.17233704 0.11056098 0.05069271 0.06827163 0.06318419\n",
      " 0.02248467 0.01971383 0.01053827 0.19813763 0.05986827 0.02348399\n",
      " 0.00785828 0.01726096]\n",
      "Correlation between the true ambient and model stored ambient profile: [[1. 1.]\n",
      " [1. 1.]]\n"
     ]
    }
   ],
   "source": [
    "beta = prodLDA.decoder.beta.weight.cpu().detach().exp().t()\n",
    "print(beta[:5,:5])\n",
    "\n",
    "print(beta.shape)\n",
    "beta_pos = beta.detach().cpu().numpy() >0\n",
    "print(beta_pos.sum(), 12*14)\n",
    "\n",
    "print(pyro.get_param_store().keys())\n",
    "\n",
    "# Verify the ambient dist does not change after learning\n",
    "print(f\"Original ambient profile: {p_tensor.detach().cpu().numpy()}\")\n",
    "print(f\"Correlation between the true ambient and model stored ambient profile: {np.corrcoef(p_tensor.detach().cpu().numpy(),prodLDA.decoder.beta.ambient_profile.detach().cpu().numpy())}\")"
   ]
  },
  {
   "cell_type": "code",
   "execution_count": null,
   "metadata": {
    "colab": {
     "base_uri": "https://localhost:8080/"
    },
    "executionInfo": {
     "elapsed": 303,
     "status": "ok",
     "timestamp": 1668888454425,
     "user": {
      "displayName": "superhanfeng",
      "userId": "17857691186997045480"
     },
     "user_tz": 300
    },
    "id": "L7TN5tPAHjot",
    "outputId": "7e150863-315e-4865-e68b-e222644064b3"
   },
   "outputs": [
    {
     "name": "stdout",
     "output_type": "stream",
     "text": [
      "torch.Size([7471, 2]) torch.Size([7471, 2])\n",
      "tensor([[6.1048e-01, 3.8952e-01],\n",
      "        [1.4224e-04, 9.9986e-01],\n",
      "        [3.5928e-02, 9.6407e-01],\n",
      "        ...,\n",
      "        [6.3296e-01, 3.6704e-01],\n",
      "        [7.3159e-01, 2.6841e-01],\n",
      "        [7.9211e-01, 2.0789e-01]]) torch.Size([7471, 2])\n"
     ]
    }
   ],
   "source": [
    "# Get logtheta_loc and logtheta_scale to sample theta\n",
    "logtheta_loc, logtheta_scale = prodLDA.encoder(counts_tensor)\n",
    "print(logtheta_loc.shape, logtheta_scale.shape)\n",
    "\n",
    "# logtheta = pyro.sample('logtheta', dist.Normal(logtheta_loc, logtheta_scale).to_event(1))\n",
    "theta = F.softmax(logtheta_loc, -1)\n",
    "\n",
    "theta = theta.cpu().detach()\n",
    "\n",
    "print(theta[:,:10], theta.shape)\n",
    "\n",
    "df = pd.DataFrame(theta.numpy())\n",
    "# print(df.head(), df.shape)\n",
    "df.to_csv('pbmc10k_pyro_inference_theta.csv')"
   ]
  }
 ],
 "metadata": {
  "accelerator": "GPU",
  "colab": {
   "authorship_tag": "ABX9TyMLZoH+Ez9GwwFJvDIJDo4a",
   "provenance": []
  },
  "gpuClass": "standard",
  "kernelspec": {
   "display_name": "Python 3",
   "language": "python",
   "name": "python3"
  },
  "language_info": {
   "codemirror_mode": {
    "name": "ipython",
    "version": 3
   },
   "file_extension": ".py",
   "mimetype": "text/x-python",
   "name": "python",
   "nbconvert_exporter": "python",
   "pygments_lexer": "ipython3",
   "version": "3.8.8"
  }
 },
 "nbformat": 4,
 "nbformat_minor": 1
}
